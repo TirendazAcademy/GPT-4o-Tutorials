{
 "cells": [
  {
   "cell_type": "code",
   "execution_count": 1,
   "metadata": {},
   "outputs": [
    {
     "data": {
      "text/plain": [
       "True"
      ]
     },
     "execution_count": 1,
     "metadata": {},
     "output_type": "execute_result"
    }
   ],
   "source": [
    "from dotenv import load_dotenv\n",
    "load_dotenv()"
   ]
  },
  {
   "cell_type": "code",
   "execution_count": 2,
   "metadata": {},
   "outputs": [],
   "source": [
    "from openai import OpenAI \n",
    "client = OpenAI()"
   ]
  },
  {
   "cell_type": "code",
   "execution_count": 3,
   "metadata": {},
   "outputs": [
    {
     "name": "stdout",
     "output_type": "stream",
     "text": [
      "Assistant:Why was the AI at the party so confident?\n",
      "\n",
      "Because it had a lot of \"neural networks\"!\n"
     ]
    }
   ],
   "source": [
    "completion = client.chat.completions.create(\n",
    "    model=\"gpt-4o\",\n",
    "    messages=[\n",
    "        {\n",
    "            \"role\":\"system\",\"content\":\"You are a helpful assistant.\"\n",
    "        },\n",
    "        {\n",
    "            \"role\":\"user\",\"content\":\"Tell me a short joke about AI.\"\n",
    "        }\n",
    "    ]\n",
    ")\n",
    "print(\"Assistant:\"+ completion.choices[0].message.content)"
   ]
  },
  {
   "cell_type": "code",
   "execution_count": 4,
   "metadata": {},
   "outputs": [
    {
     "name": "stdout",
     "output_type": "stream",
     "text": [
      "Assistant:To find the area of the triangle, we can use Heron's formula. First, we need to find the semi-perimeter \\( s \\) of the triangle.\n",
      "\n",
      "The sides of the triangle are 6, 5, and 9.\n",
      "\n",
      "The semi-perimeter \\( s \\) is calculated as:\n",
      "\\[ s = \\frac{a + b + c}{2} \\]\n",
      "where \\( a = 6 \\), \\( b = 5 \\), and \\( c = 9 \\).\n",
      "\n",
      "\\[ s = \\frac{6 + 5 + 9}{2} = \\frac{20}{2} = 10 \\]\n",
      "\n",
      "Now, we can use Heron's formula to find the area \\( A \\):\n",
      "\\[ A = \\sqrt{s(s-a)(s-b)(s-c)} \\]\n",
      "\n",
      "Substitute the values:\n",
      "\\[ A = \\sqrt{10(10-6)(10-5)(10-9)} \\]\n",
      "\\[ A = \\sqrt{10 \\cdot 4 \\cdot 5 \\cdot 1} \\]\n",
      "\\[ A = \\sqrt{200} \\]\n",
      "\\[ A = 10\\sqrt{2} \\]\n",
      "\n",
      "So, the area of the triangle is \\( 10\\sqrt{2} \\) square units.\n"
     ]
    }
   ],
   "source": [
    "response = client.chat.completions.create(\n",
    "    model=\"gpt-4o\",\n",
    "    messages=[\n",
    "        {\"role\":\"system\",\"content\":\"You are a helpful assistant that responds in Markdown. Help me with my math homework!\"},\n",
    "        { \"role\":\"user\",\"content\":[\n",
    "            {\"type\":\"text\", \"text\":\"What's the area of the triangle?\"},\n",
    "            {\"type\":\"image_url\", \"image_url\": {\n",
    "                \"url\":\"https://upload.wikimedia.org/wikipedia/commons/e/e2/The_Algebra_of_Mohammed_Ben_Musa_-_page_82b.png\"\n",
    "            }}\n",
    "        ]}\n",
    "    ],\n",
    "    temperature=0,\n",
    ")\n",
    "print(\"Assistant:\"+ response.choices[0].message.content)"
   ]
  },
  {
   "cell_type": "code",
   "execution_count": 5,
   "metadata": {},
   "outputs": [],
   "source": [
    "VIDEO_PATH = \"data/bison.mp4\""
   ]
  },
  {
   "cell_type": "code",
   "execution_count": 6,
   "metadata": {},
   "outputs": [],
   "source": [
    "import cv2\n",
    "import os\n",
    "from moviepy.editor import VideoFileClip\n",
    "import time\n",
    "import base64\n",
    "from IPython.display import Image\n",
    "\n",
    "def process_video(video_path, seconds_per_frame=2):\n",
    "    base64Frames = []\n",
    "    base_video_path, _ = os.path.splitext(video_path)\n",
    "\n",
    "    video = cv2.VideoCapture(video_path)\n",
    "    total_frames = int(video.get(cv2.CAP_PROP_FRAME_COUNT))\n",
    "    fps = video.get(cv2.CAP_PROP_FPS)\n",
    "    frames_to_skip = int(fps * seconds_per_frame)\n",
    "    curr_frame=0\n",
    "\n",
    "    # Loop through the video and extract frames at specified sampling rate\n",
    "    while curr_frame < total_frames - 1:\n",
    "        video.set(cv2.CAP_PROP_POS_FRAMES, curr_frame)\n",
    "        success, frame = video.read()\n",
    "        if not success:\n",
    "            break\n",
    "        _, buffer = cv2.imencode(\".jpg\", frame)\n",
    "        base64Frames.append(base64.b64encode(buffer).decode(\"utf-8\"))\n",
    "        curr_frame += frames_to_skip\n",
    "    video.release()\n",
    "\n",
    "    # Extract audio from video\n",
    "    audio_path = f\"{base_video_path}.mp3\"\n",
    "    clip = VideoFileClip(video_path)\n",
    "    clip.audio.write_audiofile(audio_path, bitrate=\"32k\")\n",
    "    clip.audio.close()\n",
    "    clip.close()\n",
    "\n",
    "    print(f\"Extracted {len(base64Frames)} frames\")\n",
    "    print(f\"Extracted audio to {audio_path}\")\n",
    "    return base64Frames, audio_path"
   ]
  },
  {
   "cell_type": "code",
   "execution_count": 7,
   "metadata": {},
   "outputs": [
    {
     "name": "stdout",
     "output_type": "stream",
     "text": [
      "MoviePy - Writing audio in data/bison.mp3\n"
     ]
    },
    {
     "name": "stderr",
     "output_type": "stream",
     "text": [
      "                                                                    "
     ]
    },
    {
     "name": "stdout",
     "output_type": "stream",
     "text": [
      "MoviePy - Done.\n",
      "Extracted 21 frames\n",
      "Extracted audio to data/bison.mp3\n"
     ]
    },
    {
     "name": "stderr",
     "output_type": "stream",
     "text": [
      "\r"
     ]
    }
   ],
   "source": [
    "base64Frames, audio_path = process_video(VIDEO_PATH, seconds_per_frame=1)"
   ]
  },
  {
   "cell_type": "code",
   "execution_count": 8,
   "metadata": {},
   "outputs": [
    {
     "name": "stdout",
     "output_type": "stream",
     "text": [
      "The video frames depict a dramatic wildlife scene in a snowy landscape. Here's a summary of the events:\n",
      "\n",
      "1. **Initial Encounter**: A group of wolves surrounds a bison, likely targeting it as prey.\n",
      "2. **Attack Begins**: The wolves begin to attack the bison, trying to bring it down.\n",
      "3. **Bison Defense**: Another bison attempts to intervene and protect the targeted bison.\n",
      "4. **Pack Attack**: More wolves join the attack, intensifying their efforts to overpower the bison.\n",
      "5. **Struggle**: The bison tries to fend off the wolves, but the pack's persistence is evident.\n",
      "6. **Overpowering**: The wolves eventually overpower the bison, bringing it down.\n",
      "7. **Feeding**: The wolves start feeding on the fallen bison, with some standing guard while others eat.\n",
      "\n",
      "The sequence highlights the harsh realities of survival in the wild, showcasing the wolves' hunting strategy and the bison's struggle to defend itself.\n"
     ]
    }
   ],
   "source": [
    "response = client.chat.completions.create(\n",
    "    model=\"gpt-4o\",\n",
    "    messages=[\n",
    "        {\"role\": \"system\", \"content\": \"You are generating a video summary. Please provide a summary of the video. Respond in Markdown.\"},\n",
    "        {\n",
    "            \"role\": \"user\", \n",
    "            \"content\": [\n",
    "                \"These are the frames from the video.\",\n",
    "                *map(lambda x: {\"type\": \"image_url\", \n",
    "                                \"image_url\": {\"url\": f'data:image/jpg;base64,{x}', \"detail\": \"low\"}},\n",
    "                                base64Frames)\n",
    "            ],\n",
    "        }\n",
    "    ],\n",
    "    temperature=0,\n",
    ")\n",
    "print(response.choices[0].message.content)"
   ]
  },
  {
   "cell_type": "code",
   "execution_count": 9,
   "metadata": {},
   "outputs": [],
   "source": [
    "transcription = client.audio.transcriptions.create(\n",
    "    model=\"whisper-1\", \n",
    "    file=open(audio_path,\"rb\"),\n",
    ")"
   ]
  },
  {
   "cell_type": "code",
   "execution_count": 10,
   "metadata": {},
   "outputs": [
    {
     "name": "stdout",
     "output_type": "stream",
     "text": [
      "The transcription describes a scene where a herd, focused solely on escaping, inadvertently provides an advantage to the pursuing wolves.\n"
     ]
    }
   ],
   "source": [
    "response = client.chat.completions.create(\n",
    "    model=\"gpt-4o\",\n",
    "    messages=[\n",
    "        {\"role\": \"system\", \"content\": \"You are generating a transcript summary. Create a summary of the provided transcription. Respond in Markdown.\"},\n",
    "        {\"role\": \"user\", \"content\": [\n",
    "        {\"type\": \"text\", \"text\": f\"The audio transcription is: {transcription.text}\"}\n",
    "        ],}\n",
    "    ],\n",
    "    temperature=0,\n",
    ")\n",
    "print(response.choices[0].message.content)"
   ]
  },
  {
   "cell_type": "code",
   "execution_count": 11,
   "metadata": {},
   "outputs": [
    {
     "name": "stdout",
     "output_type": "stream",
     "text": [
      "The video frames depict a dramatic wildlife scene in a snowy landscape. Here's a summary of the video:\n",
      "\n",
      "1. **Initial Scene**: A group of wolves is seen surrounding a bison in the snow.\n",
      "2. **Attack Begins**: The wolves begin to attack the bison, attempting to bring it down.\n",
      "3. **Bison's Struggle**: The bison struggles against the wolves, trying to fend them off.\n",
      "4. **Herd Intervention**: Other bison from the herd rush in to help, attempting to drive the wolves away.\n",
      "5. **Continued Attack**: Despite the herd's intervention, the wolves persist in their attack.\n",
      "6. **Bison Falls**: Eventually, the bison falls to the ground, overwhelmed by the wolves.\n",
      "7. **Wolves Feed**: The wolves start feeding on the fallen bison.\n",
      "8. **Herd Retreats**: The rest of the bison herd retreats, leaving the wolves to their meal.\n",
      "\n",
      "The audio transcription indicates that the herd's primary focus was on escaping, which provided an opportunity for the wolves to successfully hunt the bison.\n"
     ]
    }
   ],
   "source": [
    "response = client.chat.completions.create(\n",
    "    model=\"gpt-4o\",\n",
    "    messages=[\n",
    "        {\"role\": \"system\", \"content\": \"You are generating a video summary. Please provide a summary of the video. Respond in Markdown.\"},\n",
    "        {\n",
    "            \"role\": \"user\", \n",
    "            \"content\": [\n",
    "                \"These are the frames from the video.\",\n",
    "                *map(lambda x: {\"type\": \"image_url\", \n",
    "                                \"image_url\": {\"url\": f'data:image/jpg;base64,{x}', \"detail\": \"low\"}},base64Frames),\n",
    "                                {\"type\": \"text\", \"text\": f\"The audio transcription is: {transcription.text}\"}\n",
    "            ],\n",
    "        }\n",
    "    ],\n",
    "    temperature=0,\n",
    ")\n",
    "print(response.choices[0].message.content)"
   ]
  },
  {
   "cell_type": "code",
   "execution_count": null,
   "metadata": {},
   "outputs": [],
   "source": []
  }
 ],
 "metadata": {
  "kernelspec": {
   "display_name": "genai",
   "language": "python",
   "name": "python3"
  },
  "language_info": {
   "codemirror_mode": {
    "name": "ipython",
    "version": 3
   },
   "file_extension": ".py",
   "mimetype": "text/x-python",
   "name": "python",
   "nbconvert_exporter": "python",
   "pygments_lexer": "ipython3",
   "version": "3.11.8"
  }
 },
 "nbformat": 4,
 "nbformat_minor": 2
}
